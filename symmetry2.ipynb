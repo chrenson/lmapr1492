{
 "cells": [
  {
   "cell_type": "code",
   "execution_count": 38,
   "id": "f0ad97c0",
   "metadata": {
    "scrolled": false
   },
   "outputs": [],
   "source": [
    "from pymatgen.symmetry.analyzer import SpacegroupAnalyzer\n",
    "from pymatgen.core.operations import SymmOp\n",
    "from pymatgen.core.structure import SiteCollection\n",
    "from jupyter_jsmol.pymatgen import quick_view\n",
    "from pymatgen.ext.matproj import MPRester\n",
    "with MPRester(\"6t2dQIcMaNaz6nTZlWm\") as m:\n",
    "\n",
    "    # Structure du matériau attribué\n",
    "    structure = m.get_structure_by_material_id(\"mp-867339\")\n",
    "\n",
    "#vecteurs du réseau direct\n",
    "lattice = structure.lattice\n",
    "a = lattice.matrix[0]\n",
    "b = lattice.matrix[1]\n",
    "c = lattice.matrix[2]\n",
    "\n",
    "#view\n",
    "#view = quick_view(structure)\n",
    "#display(view)\n",
    "#view.script(\"select all; label on\") #pour voir le nom des atomes ainsi que leur numéro\n",
    "    \n",
    "#On récupère la liste avec les opérations de symétrie\n",
    "sym = SpacegroupAnalyzer(structure).get_symmetry_operations()\n",
    "\n",
    "#on choisit 3 opérations de symétries différentes\n",
    "sym1 = sym[3]\n",
    "sym2 = sym[6]\n",
    "sym3 = sym[10]\n",
    "\n",
    "#équations des opérations de symétrie sous forme x,y,z\n",
    "op1 = sym1.as_xyz_string()\n",
    "op2 = sym2.as_xyz_string()\n",
    "op3 = sym3.as_xyz_string()\n",
    "\n",
    "#coordonnées des atomes dans le cristal\n",
    "coords = structure.cart_coords\n"
   ]
  },
  {
   "cell_type": "markdown",
   "id": "d0ca7703",
   "metadata": {},
   "source": [
    "# Opération 1 sur le Cs"
   ]
  },
  {
   "cell_type": "code",
   "execution_count": 39,
   "id": "e4fb277e",
   "metadata": {
    "scrolled": true
   },
   "outputs": [
    {
     "name": "stdout",
     "output_type": "stream",
     "text": [
      "Opération de symétrie : ( -x-y-z, z, x )\n",
      "matrice de rotation : \n",
      " [[-1. -1. -1.]\n",
      " [ 0.  0.  1.]\n",
      " [ 1.  0.  0.]]\n",
      "vecteur de translation: \n",
      " [0. 0. 0.]\n",
      "coordonnées initiales de l'atome de Cs #4:  [8.918936 8.918936 8.918936]\n",
      "coordonnées de l'atome de Cs après symétrie:  [-26.756808   8.918936   8.918936]\n"
     ]
    }
   ],
   "source": [
    "print(\"Opération de symétrie : (\", op1, \")\")\n",
    "print(\"matrice de rotation : \\n\", sym1.rotation_matrix)\n",
    "print(\"vecteur de translation: \\n\", sym1.translation_vector)\n",
    "coord1 = coords[0] + a + b + c\n",
    "print(\"coordonnées initiales de l'atome de Cs #4: \", coord1 )\n",
    "print(\"coordonnées de l'atome de Cs après symétrie: \", sym1.operate(coord1) )\n",
    "#view1 = quick_view(structure)\n",
    "#display(view1)\n",
    "#view1.script('draw SYMOP 4 {atomno = 4}')\n"
   ]
  },
  {
   "cell_type": "markdown",
   "id": "b1bac3a3",
   "metadata": {},
   "source": [
    "# Opération 2 sur le K"
   ]
  },
  {
   "cell_type": "code",
   "execution_count": 40,
   "id": "cb1d5f55",
   "metadata": {
    "scrolled": true
   },
   "outputs": [
    {
     "name": "stdout",
     "output_type": "stream",
     "text": [
      "Opération de symétrie : ( -z, x+y+z, -y )\n",
      "matrice de rotation : \n",
      " [[ 0.  0. -1.]\n",
      " [ 1.  1.  1.]\n",
      " [ 0. -1.  0.]]\n",
      "vecteur de translation: \n",
      " [0. 0. 0.]\n",
      "coordonnées initiales de l'atome de K #5:  [2.229734 2.229734 2.229734]\n",
      "coordonnées de l'atome de K après symétrie:  [-2.229734  6.689202 -2.229734]\n"
     ]
    }
   ],
   "source": [
    "print(\"Opération de symétrie : (\", op2, \")\")\n",
    "print(\"matrice de rotation : \\n\", sym2.rotation_matrix)\n",
    "print(\"vecteur de translation: \\n\", sym2.translation_vector)\n",
    "coord2 = coords[2]\n",
    "print(\"coordonnées initiales de l'atome de K #5: \", coord2 )\n",
    "print(\"coordonnées de l'atome de K après symétrie: \", sym2.operate(coord2) )\n",
    "#view2 = quick_view(structure)\n",
    "#display(view2)\n",
    "#view2.script('draw SYMOP 7 {atomno = 5}')"
   ]
  },
  {
   "cell_type": "markdown",
   "id": "5a877903",
   "metadata": {},
   "source": [
    "# Opération 3 sur le Bi"
   ]
  },
  {
   "cell_type": "code",
   "execution_count": 41,
   "id": "8dd1d93e",
   "metadata": {},
   "outputs": [
    {
     "name": "stdout",
     "output_type": "stream",
     "text": [
      "Opération de symétrie : ( -y, -x, -z )\n",
      "matrice de rotation : \n",
      " [[ 0. -1.  0.]\n",
      " [-1.  0.  0.]\n",
      " [ 0.  0. -1.]]\n",
      "vecteur de translation: \n",
      " [0. 0. 0.]\n",
      "coordonnées initiales de l'atome de Bi #3:  [4.459468 4.459468 4.459468]\n",
      "coordonnées de l'atome de Bi après symétrie:  [-4.459468 -4.459468 -4.459468]\n"
     ]
    }
   ],
   "source": [
    "print(\"Opération de symétrie : (\", op3, \")\")\n",
    "print(\"matrice de rotation : \\n\", sym3.rotation_matrix)\n",
    "print(\"vecteur de translation: \\n\", sym3.translation_vector)\n",
    "coord3 = coords[3]\n",
    "print(\"coordonnées initiales de l'atome de Bi #3: \", coord3 )\n",
    "print(\"coordonnées de l'atome de Bi après symétrie: \", sym3.operate(coord3) )\n",
    "#view3= quick_view(structure)\n",
    "#display(view3)\n",
    "#view3.script('draw SYMOP 11 {atomno = 3}')"
   ]
  }
 ],
 "metadata": {
  "kernelspec": {
   "display_name": "Python 3",
   "language": "python",
   "name": "python3"
  },
  "language_info": {
   "codemirror_mode": {
    "name": "ipython",
    "version": 3
   },
   "file_extension": ".py",
   "mimetype": "text/x-python",
   "name": "python",
   "nbconvert_exporter": "python",
   "pygments_lexer": "ipython3",
   "version": "3.6.8"
  }
 },
 "nbformat": 4,
 "nbformat_minor": 5
}
