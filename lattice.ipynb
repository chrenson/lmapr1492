{
 "cells": [
  {
   "cell_type": "code",
   "execution_count": 1,
   "id": "2d600bcb",
   "metadata": {
    "scrolled": false
   },
   "outputs": [
    {
     "name": "stdout",
     "output_type": "stream",
     "text": [
      "Vecteurs de base du réseau direct:\n",
      "a =  [0.       4.459468 4.459468]\n",
      "b =  [4.459468 0.       4.459468]\n",
      "c =  [4.459468 4.459468 0.      ] \n",
      "\n",
      "Vecteurs de base du réseau réciproque:\n",
      "a* =  [-0.704477  0.704477  0.704477]\n",
      "b* =  [ 0.704477 -0.704477  0.704477]\n",
      "c* =  [ 0.704477  0.704477 -0.704477] \n",
      "\n",
      "Type de maille:\n",
      " cubic \n",
      "\n",
      "Système cristallin:\n",
      " cubic \n",
      "\n",
      "Groupe ponctuel:\n",
      " m-3m\n"
     ]
    }
   ],
   "source": [
    "from pymatgen.symmetry.analyzer import SpacegroupAnalyzer\n",
    "from pymatgen.ext.matproj import MPRester\n",
    "with MPRester(\"6t2dQIcMaNaz6nTZlWm\") as m:\n",
    "\n",
    "    # Structure du matériau attribué\n",
    "    structure = m.get_structure_by_material_id(\"mp-867339\")\n",
    "\n",
    "\n",
    "analyze = SpacegroupAnalyzer(structure)\n",
    "\n",
    "#vecteurs de base du réseau direct\n",
    "lattice = structure.lattice\n",
    "print(\"Vecteurs de base du réseau direct:\")\n",
    "print(\"a = \", lattice.matrix[0])\n",
    "print(\"b = \", lattice.matrix[1])\n",
    "print(\"c = \", lattice.matrix[2],\"\\n\")\n",
    "\n",
    "#vecteurs de base du réseau réciproque\n",
    "reciprocal_lattice = lattice.reciprocal_lattice\n",
    "print(\"Vecteurs de base du réseau réciproque:\")\n",
    "print(\"a* = \", reciprocal_lattice.matrix[0])\n",
    "print(\"b* = \", reciprocal_lattice.matrix[1])\n",
    "print(\"c* = \", reciprocal_lattice.matrix[2],\"\\n\")\n",
    "\n",
    "#type de maille\n",
    "maille = analyze.get_lattice_type()\n",
    "print(\"Type de maille:\\n\", maille, \"\\n\" )\n",
    "\n",
    "#système cristallin\n",
    "cristal = analyze.get_crystal_system()\n",
    "print(\"Système cristallin:\\n\", cristal, \"\\n\" )\n",
    "\n",
    "#groupe ponctuel\n",
    "group = analyze.get_point_group_symbol()\n",
    "print(\"Groupe ponctuel:\\n\", group)"
   ]
  }
 ],
 "metadata": {
  "kernelspec": {
   "display_name": "Python 3",
   "language": "python",
   "name": "python3"
  },
  "language_info": {
   "codemirror_mode": {
    "name": "ipython",
    "version": 3
   },
   "file_extension": ".py",
   "mimetype": "text/x-python",
   "name": "python",
   "nbconvert_exporter": "python",
   "pygments_lexer": "ipython3",
   "version": "3.6.8"
  }
 },
 "nbformat": 4,
 "nbformat_minor": 5
}
