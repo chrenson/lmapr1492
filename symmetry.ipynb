{
 "cells": [
  {
   "cell_type": "code",
   "execution_count": 100,
   "id": "f0ad97c0",
   "metadata": {
    "scrolled": false
   },
   "outputs": [
    {
     "data": {
      "application/vnd.jupyter.widget-view+json": {
       "model_id": "bc836ba4ed3a4c27b5e33a21a77ce2fb",
       "version_major": 2,
       "version_minor": 0
      },
      "text/plain": [
       "JsmolView(layout=Layout(align_self='stretch', height='400px'))"
      ]
     },
     "metadata": {},
     "output_type": "display_data"
    }
   ],
   "source": [
    "from pymatgen.symmetry.analyzer import SpacegroupAnalyzer\n",
    "from pymatgen.core.operations import SymmOp\n",
    "from pymatgen.core.structure import SiteCollection\n",
    "from jupyter_jsmol.pymatgen import quick_view\n",
    "from pymatgen.ext.matproj import MPRester\n",
    "with MPRester(\"6t2dQIcMaNaz6nTZlWm\") as m:\n",
    "\n",
    "    # Structure du matériau attribué\n",
    "    structure = m.get_structure_by_material_id(\"mp-867339\")\n",
    "\n",
    "#view\n",
    "view = quick_view(structure)\n",
    "display(view)\n",
    "view.script(\"select all; label on\") #pour voir le nom des atomes ainsi que leur numéro\n",
    "    \n",
    "#On récupère la liste avec les opérations de symétrie\n",
    "sym = SpacegroupAnalyzer(structure).get_symmetry_operations()\n",
    "\n",
    "#on choisit 3 opérations de symétries différentes\n",
    "sym1 = sym[3]\n",
    "sym2 = sym[6]\n",
    "sym3 = sym[10]\n",
    "\n",
    "#équations des opérations de symétrie sous forme x,y,z\n",
    "op1 = sym1.as_xyz_string()\n",
    "op2 = sym2.as_xyz_string()\n",
    "op3 = sym3.as_xyz_string()\n"
   ]
  },
  {
   "cell_type": "markdown",
   "id": "d0ca7703",
   "metadata": {},
   "source": [
    "# Opération 1 sur le Cs"
   ]
  },
  {
   "cell_type": "code",
   "execution_count": 101,
   "id": "e4fb277e",
   "metadata": {
    "scrolled": true
   },
   "outputs": [
    {
     "name": "stdout",
     "output_type": "stream",
     "text": [
      "Opération de symétrie : ( -x-y-z, z, x )\n"
     ]
    },
    {
     "data": {
      "application/vnd.jupyter.widget-view+json": {
       "model_id": "c25b5b365db8435f8dc86332afb65433",
       "version_major": 2,
       "version_minor": 0
      },
      "text/plain": [
       "JsmolView(layout=Layout(align_self='stretch', height='400px'))"
      ]
     },
     "metadata": {},
     "output_type": "display_data"
    }
   ],
   "source": [
    "print(\"Opération de symétrie : (\", op1, \")\")\n",
    "#print(\"Coordonnées initiales de l'atome Cs: \", coordinates[1])\n",
    "#coor1 = sym1.operate(coordinates[1])\n",
    "#print(\"Coordonnées de l'atome Cs après symétrie: \", coor1)\n",
    "view1 = quick_view(structure)\n",
    "display(view1)\n",
    "#view1.script(\"select all; label on\")\n",
    "view1.script('draw SYMOP 4 {atomno = 4}')\n"
   ]
  },
  {
   "cell_type": "markdown",
   "id": "b1bac3a3",
   "metadata": {},
   "source": [
    "# Opération 2 sur le K"
   ]
  },
  {
   "cell_type": "code",
   "execution_count": 102,
   "id": "cb1d5f55",
   "metadata": {
    "scrolled": true
   },
   "outputs": [
    {
     "name": "stdout",
     "output_type": "stream",
     "text": [
      "Opération de symétrie : ( -z, x+y+z, -y )\n"
     ]
    },
    {
     "data": {
      "application/vnd.jupyter.widget-view+json": {
       "model_id": "52e8675d9f0c42fa95033af6102a8b3e",
       "version_major": 2,
       "version_minor": 0
      },
      "text/plain": [
       "JsmolView(layout=Layout(align_self='stretch', height='400px'))"
      ]
     },
     "metadata": {},
     "output_type": "display_data"
    }
   ],
   "source": [
    "print(\"Opération de symétrie : (\", op2, \")\")\n",
    "view2 = quick_view(structure)\n",
    "display(view2)\n",
    "view2.script('draw SYMOP 7 {atomno = 5}')"
   ]
  },
  {
   "cell_type": "markdown",
   "id": "5a877903",
   "metadata": {},
   "source": [
    "# Opération 3 sur le Bi"
   ]
  },
  {
   "cell_type": "code",
   "execution_count": 103,
   "id": "8dd1d93e",
   "metadata": {},
   "outputs": [
    {
     "name": "stdout",
     "output_type": "stream",
     "text": [
      "Opération de symétrie : ( -y, -x, -z )\n"
     ]
    },
    {
     "data": {
      "application/vnd.jupyter.widget-view+json": {
       "model_id": "c93d17f31be44376a60320c986b8dbb3",
       "version_major": 2,
       "version_minor": 0
      },
      "text/plain": [
       "JsmolView(layout=Layout(align_self='stretch', height='400px'))"
      ]
     },
     "metadata": {},
     "output_type": "display_data"
    }
   ],
   "source": [
    "print(\"Opération de symétrie : (\", op3, \")\")\n",
    "view3= quick_view(structure)\n",
    "display(view3)\n",
    "view3.script('draw SYMOP 11 {atomno = 13}')"
   ]
  }
 ],
 "metadata": {
  "kernelspec": {
   "display_name": "Python 3",
   "language": "python",
   "name": "python3"
  },
  "language_info": {
   "codemirror_mode": {
    "name": "ipython",
    "version": 3
   },
   "file_extension": ".py",
   "mimetype": "text/x-python",
   "name": "python",
   "nbconvert_exporter": "python",
   "pygments_lexer": "ipython3",
   "version": "3.6.8"
  }
 },
 "nbformat": 4,
 "nbformat_minor": 5
}
